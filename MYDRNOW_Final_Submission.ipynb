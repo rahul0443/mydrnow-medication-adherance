{
 "cells": [
  {
   "cell_type": "markdown",
   "id": "0bb49b11",
   "metadata": {},
   "source": [
    "\n",
    "# MY DR NOW – Medication Adherence Assessment  \n",
    "**Final Submission** · June 27, 2025\n",
    "\n",
    "MY DR NOW Data Analyst Intern Assessment:\n",
    "- Data quality audit\n",
    "- Data cleaning & validation\n",
    "- Provider & clinic benchmarking\n",
    "- Workflow timing analysis\n",
    "- Dashboard visualizations\n",
    "- Composite adherence score\n",
    "- Exports of cleaned datasets & metrics\n",
    "- Inline validation tests  \n",
    "Run **Kernel → Restart & Run All** to generate all outputs and CSVs for GitHub.\n"
   ]
  },
  {
   "cell_type": "markdown",
   "id": "df9e5454",
   "metadata": {},
   "source": [
    "## 1. Imports & Configuration"
   ]
  },
  {
   "cell_type": "code",
   "execution_count": 40,
   "id": "05815893",
   "metadata": {},
   "outputs": [],
   "source": [
    "import pandas as pd\n",
    "import numpy as np\n",
    "import plotly.express as px\n",
    "from pathlib import Path\n",
    "from sklearn.preprocessing import MinMaxScaler\n",
    "\n",
    "pd.set_option('display.max_columns', None)\n",
    "DATA_DIR = Path('.')  # Adjust if CSVs live elsewhere\n"
   ]
  },
  {
   "cell_type": "markdown",
   "id": "08a2e849",
   "metadata": {},
   "source": [
    "## 2. Load Raw Data"
   ]
  },
  {
   "cell_type": "code",
   "execution_count": 41,
   "id": "c9dfbdb8",
   "metadata": {},
   "outputs": [
    {
     "name": "stdout",
     "output_type": "stream",
     "text": [
      "Raw shapes: pharmacy (2578, 7) encounters (8559, 5) med_ref (2899, 2)\n"
     ]
    }
   ],
   "source": [
    "pharmacy_raw   = pd.read_csv(DATA_DIR / 'pharmacy_refills 2.csv')\n",
    "encounters_raw = pd.read_csv(DATA_DIR / 'provider_encounters 1.csv')\n",
    "med_ref_raw    = pd.read_csv(DATA_DIR / 'medication_category_reference 1.csv')\n",
    "\n",
    "print(\"Raw shapes:\",\n",
    "      \"pharmacy\", pharmacy_raw.shape,\n",
    "      \"encounters\", encounters_raw.shape,\n",
    "      \"med_ref\", med_ref_raw.shape)\n"
   ]
  },
  {
   "cell_type": "markdown",
   "id": "dd8266a2",
   "metadata": {},
   "source": [
    "## 3. Data-Quality Audit"
   ]
  },
  {
   "cell_type": "code",
   "execution_count": 42,
   "id": "0783ed6a",
   "metadata": {},
   "outputs": [
    {
     "name": "stdout",
     "output_type": "stream",
     "text": [
      "--- Pharmacy Refills Raw ---\n",
      "Shape: (2578, 7)\n",
      "Missing %: {'patient_id': 0.0, 'insurance_carrier': 0.0, 'drug_name': 0.0, 'quantity': 0.0, 'date_of_last_refill': 0.0, 'next_refill_date': 0.0, 'absolute_fail_date': 3.8}\n",
      "Dtypes: {'patient_id': dtype('O'), 'insurance_carrier': dtype('O'), 'drug_name': dtype('O'), 'quantity': dtype('int64'), 'date_of_last_refill': dtype('O'), 'next_refill_date': dtype('O'), 'absolute_fail_date': dtype('O')}\n",
      "\n",
      "--- Provider Encounters Raw ---\n",
      "Shape: (8559, 5)\n",
      "Missing %: {'patient_id': 0.0, 'contact_date': 0.0, 'provider_id': 0.0, 'clinic_id': 0.0, 'encounter_type': 0.0}\n",
      "Dtypes: {'patient_id': dtype('O'), 'contact_date': dtype('O'), 'provider_id': dtype('int64'), 'clinic_id': dtype('int64'), 'encounter_type': dtype('O')}\n",
      "\n",
      "--- Medication Reference Raw ---\n",
      "Shape: (2899, 2)\n",
      "Missing %: {'medication_name': 0.0, 'rx_category': 0.0}\n",
      "Dtypes: {'medication_name': dtype('O'), 'rx_category': dtype('O')}\n",
      "\n"
     ]
    }
   ],
   "source": [
    "def audit(df, name):\n",
    "    print(f\"--- {name} ---\")\n",
    "    print(\"Shape:\", df.shape)\n",
    "    print(\"Missing %:\", (df.isnull().mean()*100).round(2).to_dict())\n",
    "    print(\"Dtypes:\", df.dtypes.to_dict())\n",
    "    print()\n",
    "\n",
    "# Standardize columns\n",
    "for df in [pharmacy_raw, encounters_raw, med_ref_raw]:\n",
    "    df.columns = df.columns.str.lower().str.strip()\n",
    "\n",
    "audit(pharmacy_raw, 'Pharmacy Refills Raw')\n",
    "audit(encounters_raw, 'Provider Encounters Raw')\n",
    "audit(med_ref_raw, 'Medication Reference Raw')\n"
   ]
  },
  {
   "cell_type": "markdown",
   "id": "3434faec",
   "metadata": {},
   "source": [
    "## 4. Cleaning & Validation"
   ]
  },
  {
   "cell_type": "code",
   "execution_count": 43,
   "id": "0c8d1fa4",
   "metadata": {},
   "outputs": [
    {
     "name": "stdout",
     "output_type": "stream",
     "text": [
      "Kept 2,244/2,578 rows with numeric patient_id\n",
      "Kept 7,691/8,559 rows with numeric patient_id\n",
      "Clean shapes: (2244, 10) (3935, 5) (249, 2)\n",
      "Null fail–dates: 0\n",
      "Null categories: 0\n",
      "UNKNOWN categories: 0\n"
     ]
    }
   ],
   "source": [
    "#Cleaning & Validation\n",
    "def strip_whitespace(df):\n",
    "    obj_cols = df.select_dtypes(include='object').columns\n",
    "    df[obj_cols] = df[obj_cols].apply(lambda col: col.str.strip())\n",
    "    return df\n",
    "\n",
    "def validate_ids(df):\n",
    "    df['patient_id'] = df['patient_id'].astype(str).str.strip()\n",
    "    mask = df['patient_id'].str.isdigit()\n",
    "    print(f\"Kept {mask.sum():,}/{len(df):,} rows with numeric patient_id\")\n",
    "    return df[mask].copy()\n",
    "\n",
    "# Make working copies and standardize columns\n",
    "pharmacy = strip_whitespace(pharmacy_raw.copy())\n",
    "encounters = strip_whitespace(encounters_raw.copy())\n",
    "med_ref = strip_whitespace(med_ref_raw.copy()).rename(columns={'medication_name':'drug_name'})\n",
    "\n",
    "# Validating patient IDs (drop only non-numeric)\n",
    "pharmacy = validate_ids(pharmacy)\n",
    "encounters = validate_ids(encounters)\n",
    "\n",
    "# Parsing dates\n",
    "pharmacy[['date_of_last_refill','next_refill_date','absolute_fail_date']] = (\n",
    "    pharmacy[['date_of_last_refill','next_refill_date','absolute_fail_date']]\n",
    "    .apply(pd.to_datetime, errors='coerce')\n",
    ")\n",
    "\n",
    "# Impute missing Absolute Fail Dates → assume failure on the refill date\n",
    "pharmacy['absolute_fail_date'] = pharmacy['absolute_fail_date'] \\\n",
    "    .fillna(pharmacy['next_refill_date'])\n",
    "\n",
    "encounters['contact_date'] = pd.to_datetime(encounters['contact_date'], errors='coerce')\n",
    "\n",
    "# Droping any rows missing critical fields and dedupe\n",
    "pharmacy.dropna(subset=['drug_name','next_refill_date'], inplace=True)\n",
    "pharmacy.drop_duplicates(subset=['patient_id','drug_name','next_refill_date','quantity'], inplace=True)\n",
    "\n",
    "encounters.dropna(subset=['contact_date'], inplace=True)\n",
    "encounters.drop_duplicates(subset=['patient_id','contact_date','provider_id','clinic_id'], inplace=True)\n",
    "\n",
    "# Merging medication category\n",
    "med_ref.drop_duplicates(subset=['drug_name'], inplace=True)\n",
    "pharmacy = pharmacy.merge(med_ref, on='drug_name', how='left')\n",
    "\n",
    "# Any drug not found in med_ref gets “UNKNOWN”\n",
    "pharmacy['rx_category'] = pharmacy['rx_category'].fillna('UNKNOWN')\n",
    "\n",
    "# Deriving adherence flags and days_supply\n",
    "pharmacy['on_time_refill'] = pharmacy['next_refill_date'] <= pharmacy['absolute_fail_date']\n",
    "pharmacy['days_supply'] = (pharmacy['next_refill_date'] - pharmacy['date_of_last_refill']).dt.days\n",
    "pharmacy.loc[pharmacy['days_supply'] < 0, 'days_supply'] = np.nan\n",
    "\n",
    "# Final shapes\n",
    "print(\"Clean shapes:\", pharmacy.shape, encounters.shape, med_ref.shape)\n",
    "\n",
    "# QA for imputation & categories\n",
    "print(\"Null fail–dates:\", pharmacy['absolute_fail_date'].isna().sum())           # should be 0\n",
    "print(\"Null categories:\", pharmacy['rx_category'].isna().sum())                 # should be 0\n",
    "print(\"UNKNOWN categories:\", (pharmacy['rx_category']=='UNKNOWN').sum())\n"
   ]
  },
  {
   "cell_type": "markdown",
   "id": "f184f9a2",
   "metadata": {},
   "source": [
    "## 5. Export Cleaned Data"
   ]
  },
  {
   "cell_type": "code",
   "execution_count": 44,
   "id": "3115de29",
   "metadata": {},
   "outputs": [
    {
     "name": "stdout",
     "output_type": "stream",
     "text": [
      "Cleaned CSVs exported\n",
      "→ Cleaned pharmacy with encounters written to cleaned_pharmacy.csv\n"
     ]
    }
   ],
   "source": [
    "pharmacy.to_csv(DATA_DIR/'cleaned_pharmacy.csv', index=False)\n",
    "encounters.to_csv(DATA_DIR/'cleaned_encounters.csv', index=False)\n",
    "med_ref.to_csv(DATA_DIR/'cleaned_med_ref.csv', index=False)\n",
    "print(\"Cleaned CSVs exported\")\n",
    "\n",
    "# at the end of your “Exporting cleaned datasets” cell\n",
    "\n",
    "# writing out the merged pharmacy + encounter info so we can consume it in Power BI\n",
    "out_pharm = DATA_DIR / 'cleaned_pharmacy.csv'\n",
    "pharmacy.to_csv(out_pharm, index=False)\n",
    "\n",
    "print('→ Cleaned pharmacy with encounters written to', out_pharm.name)"
   ]
  },
  {
   "cell_type": "markdown",
   "id": "12e97086",
   "metadata": {},
   "source": [
    "## 6. Map Last Encounter to Refill"
   ]
  },
  {
   "cell_type": "code",
   "execution_count": 45,
   "id": "49a557ac",
   "metadata": {},
   "outputs": [
    {
     "name": "stdout",
     "output_type": "stream",
     "text": [
      "Encounter gap missing: 18.3%\n"
     ]
    }
   ],
   "source": [
    "pharmacy.sort_values(['next_refill_date','patient_id'], inplace=True)\n",
    "encounters.sort_values(['contact_date','patient_id'], inplace=True)\n",
    "\n",
    "merged = pd.merge_asof(\n",
    "    pharmacy, encounters,\n",
    "    by='patient_id',\n",
    "    left_on='next_refill_date',\n",
    "    right_on='contact_date',\n",
    "    direction='backward'\n",
    ")\n",
    "\n",
    "# Mark which refills actually had a prior encounter\n",
    "merged['had_encounter'] = merged['contact_date'].notna()\n",
    "\n",
    "merged['encounter_gap'] = (merged['next_refill_date'] - merged['contact_date']).dt.days\n",
    "\n",
    "print(f\"Encounter gap missing: {merged['encounter_gap'].isna().mean()*100:.1f}%\")"
   ]
  },
  {
   "cell_type": "markdown",
   "id": "4fb7f0ff",
   "metadata": {},
   "source": [
    "## 7. Provider & Clinic Benchmarking"
   ]
  },
  {
   "cell_type": "code",
   "execution_count": 46,
   "id": "cb8b5b6d",
   "metadata": {},
   "outputs": [
    {
     "data": {
      "text/html": [
       "<div>\n",
       "<style scoped>\n",
       "    .dataframe tbody tr th:only-of-type {\n",
       "        vertical-align: middle;\n",
       "    }\n",
       "\n",
       "    .dataframe tbody tr th {\n",
       "        vertical-align: top;\n",
       "    }\n",
       "\n",
       "    .dataframe thead th {\n",
       "        text-align: right;\n",
       "    }\n",
       "</style>\n",
       "<table border=\"1\" class=\"dataframe\">\n",
       "  <thead>\n",
       "    <tr style=\"text-align: right;\">\n",
       "      <th></th>\n",
       "      <th>provider_id</th>\n",
       "      <th>total_refills</th>\n",
       "      <th>on_time</th>\n",
       "      <th>avg_gap</th>\n",
       "      <th>adherence_rate</th>\n",
       "    </tr>\n",
       "  </thead>\n",
       "  <tbody>\n",
       "    <tr>\n",
       "      <th>0</th>\n",
       "      <td>143.0</td>\n",
       "      <td>8</td>\n",
       "      <td>8</td>\n",
       "      <td>91.250000</td>\n",
       "      <td>1.000000</td>\n",
       "    </tr>\n",
       "    <tr>\n",
       "      <th>1</th>\n",
       "      <td>147.0</td>\n",
       "      <td>11</td>\n",
       "      <td>11</td>\n",
       "      <td>68.454545</td>\n",
       "      <td>1.000000</td>\n",
       "    </tr>\n",
       "    <tr>\n",
       "      <th>2</th>\n",
       "      <td>148.0</td>\n",
       "      <td>58</td>\n",
       "      <td>54</td>\n",
       "      <td>77.568966</td>\n",
       "      <td>0.931034</td>\n",
       "    </tr>\n",
       "  </tbody>\n",
       "</table>\n",
       "</div>"
      ],
      "text/plain": [
       "   provider_id  total_refills  on_time    avg_gap  adherence_rate\n",
       "0        143.0              8        8  91.250000        1.000000\n",
       "1        147.0             11       11  68.454545        1.000000\n",
       "2        148.0             58       54  77.568966        0.931034"
      ]
     },
     "execution_count": 46,
     "metadata": {},
     "output_type": "execute_result"
    }
   ],
   "source": [
    "encountered = merged.dropna(subset=['provider_id'])\n",
    "provider_metrics = (\n",
    "    encountered.groupby('provider_id')\n",
    "    .agg(total_refills=('on_time_refill','size'),\n",
    "         on_time=('on_time_refill','sum'),\n",
    "         avg_gap=('encounter_gap','mean'))\n",
    "    .assign(adherence_rate=lambda d: d['on_time']/d['total_refills'])\n",
    "    .reset_index()\n",
    ")\n",
    "provider_metrics.to_csv(DATA_DIR/'provider_metrics.csv', index=False)\n",
    "provider_metrics.head(3)"
   ]
  },
  {
   "cell_type": "code",
   "execution_count": 47,
   "id": "28fc68c0",
   "metadata": {},
   "outputs": [
    {
     "data": {
      "text/html": [
       "<div>\n",
       "<style scoped>\n",
       "    .dataframe tbody tr th:only-of-type {\n",
       "        vertical-align: middle;\n",
       "    }\n",
       "\n",
       "    .dataframe tbody tr th {\n",
       "        vertical-align: top;\n",
       "    }\n",
       "\n",
       "    .dataframe thead th {\n",
       "        text-align: right;\n",
       "    }\n",
       "</style>\n",
       "<table border=\"1\" class=\"dataframe\">\n",
       "  <thead>\n",
       "    <tr style=\"text-align: right;\">\n",
       "      <th></th>\n",
       "      <th>clinic_id</th>\n",
       "      <th>total_refills</th>\n",
       "      <th>on_time</th>\n",
       "      <th>avg_gap</th>\n",
       "      <th>adherence_rate</th>\n",
       "    </tr>\n",
       "  </thead>\n",
       "  <tbody>\n",
       "    <tr>\n",
       "      <th>0</th>\n",
       "      <td>1005001.0</td>\n",
       "      <td>204</td>\n",
       "      <td>199</td>\n",
       "      <td>76.044118</td>\n",
       "      <td>0.975490</td>\n",
       "    </tr>\n",
       "    <tr>\n",
       "      <th>1</th>\n",
       "      <td>1005002.0</td>\n",
       "      <td>75</td>\n",
       "      <td>71</td>\n",
       "      <td>86.440000</td>\n",
       "      <td>0.946667</td>\n",
       "    </tr>\n",
       "    <tr>\n",
       "      <th>2</th>\n",
       "      <td>1005003.0</td>\n",
       "      <td>84</td>\n",
       "      <td>83</td>\n",
       "      <td>68.761905</td>\n",
       "      <td>0.988095</td>\n",
       "    </tr>\n",
       "  </tbody>\n",
       "</table>\n",
       "</div>"
      ],
      "text/plain": [
       "   clinic_id  total_refills  on_time    avg_gap  adherence_rate\n",
       "0  1005001.0            204      199  76.044118        0.975490\n",
       "1  1005002.0             75       71  86.440000        0.946667\n",
       "2  1005003.0             84       83  68.761905        0.988095"
      ]
     },
     "execution_count": 47,
     "metadata": {},
     "output_type": "execute_result"
    }
   ],
   "source": [
    "clinic_metrics = (\n",
    "    encountered.groupby('clinic_id')\n",
    "    .agg(total_refills=('on_time_refill','size'),\n",
    "         on_time=('on_time_refill','sum'),\n",
    "         avg_gap=('encounter_gap','mean'))\n",
    "    .assign(adherence_rate=lambda d: d['on_time']/d['total_refills'])\n",
    "    .reset_index()\n",
    ")\n",
    "clinic_metrics.to_csv(DATA_DIR/'clinic_metrics.csv', index=False)\n",
    "clinic_metrics.head(3)"
   ]
  },
  {
   "cell_type": "markdown",
   "id": "fb6145ed",
   "metadata": {},
   "source": [
    "## 8. Workflow Timing Analysis"
   ]
  },
  {
   "cell_type": "code",
   "execution_count": 48,
   "id": "ca3edc02",
   "metadata": {},
   "outputs": [],
   "source": [
    "# Defining your bins and labels exactly as before\n",
    "bins   = [-np.inf, 0, 7, 30, 60, 90, np.inf]\n",
    "labels = ['<0','0-6','7-29','30-59','60-89','90+']\n",
    "\n",
    "# Creating the gap_bin column\n",
    "merged['gap_bin'] = pd.cut(\n",
    "    merged['encounter_gap'],\n",
    "    bins=bins,\n",
    "    labels=labels,\n",
    "    right=False\n",
    ")\n",
    "\n",
    "# Grouping **without** dropping any categories (observed=False)\n",
    "gap_summary = (\n",
    "    merged.groupby('gap_bin', observed=False)\n",
    "    .agg(total   = ('on_time_refill','size'),\n",
    "         on_time = ('on_time_refill','sum'))\n",
    "    .reindex(labels)                              # ensure all bins appear in order\n",
    "    .assign(adherence_rate=lambda df: df['on_time']/df['total'])\n",
    "    .reset_index()\n",
    ")\n",
    "\n",
    "# Exporting as before\n",
    "gap_summary.to_csv('gap_summary.csv', index=False)\n"
   ]
  },
  {
   "cell_type": "markdown",
   "id": "6727d5f6",
   "metadata": {},
   "source": [
    "## 9. Weekly Adherence Trendline"
   ]
  },
  {
   "cell_type": "code",
   "execution_count": 49,
   "id": "a4d47350",
   "metadata": {},
   "outputs": [],
   "source": [
    "# 9. Weekly Adherence Trendline\n",
    "pharmacy['week'] = pharmacy['next_refill_date'].dt.to_period('W').dt.start_time\n",
    "\n",
    "weekly = (\n",
    "    pharmacy.groupby('week')\n",
    "            .agg(total=('on_time_refill','size'),\n",
    "                 on_time=('on_time_refill','sum'))\n",
    "            .assign(adherence_rate=lambda df: df['on_time']/df['total'])\n",
    "            .reset_index()\n",
    ")\n",
    "\n",
    "# Only complete weeks & remove low-volume noise\n",
    "last_full = weekly['week'].max() - pd.Timedelta(days=7)\n",
    "weekly = weekly[(weekly['week'] <= last_full) & (weekly['total'] >= 5)]\n",
    "\n",
    "# Plot\n",
    "px.line(weekly, x='week', y='adherence_rate', title='Weekly Adherence (All Refills)')\n",
    "\n",
    "# Export for GitHub / Power BI\n",
    "weekly.to_csv(DATA_DIR/'weekly_adherence.csv', index=False)"
   ]
  },
  {
   "cell_type": "markdown",
   "id": "59023d10",
   "metadata": {},
   "source": [
    "## 10. Interactive Provider Scatter"
   ]
  },
  {
   "cell_type": "code",
   "execution_count": 50,
   "id": "6a3e8dec",
   "metadata": {},
   "outputs": [
    {
     "data": {
      "application/vnd.plotly.v1+json": {
       "config": {
        "plotlyServerURL": "https://plot.ly"
       },
       "data": [
        {
         "hovertemplate": "<b>%{hovertext}</b><br><br>avg_gap=%{x}<br>adherence_rate=%{y}<br>total_refills=%{marker.size}<br>provider_id=%{marker.color}<extra></extra>",
         "hovertext": [
          143,
          147,
          148,
          149,
          151,
          156,
          160,
          162,
          165,
          167,
          168,
          181,
          182,
          183,
          184,
          187,
          189,
          191,
          192,
          195,
          196,
          197,
          198,
          199,
          944,
          950,
          1004,
          1018,
          1034,
          1045,
          1088,
          1131,
          1133,
          1208,
          1225,
          1285,
          1293,
          1311,
          1319,
          1691,
          1707,
          1723,
          1724,
          1770,
          1771,
          1798,
          1815,
          1973,
          1982,
          2088,
          2110,
          2571,
          2600,
          2601,
          2605,
          2626,
          2636,
          2638,
          2651,
          2653,
          2657,
          2658,
          2659,
          2665,
          2666,
          2667,
          2668,
          2671,
          2681,
          2683,
          2684,
          2697,
          3186,
          3386,
          3387,
          3407,
          3408,
          3413,
          3417,
          3418,
          3443,
          3444,
          3534,
          3538,
          3539,
          3629,
          3630,
          3659,
          3671,
          3689,
          3690,
          3711,
          3752,
          3792,
          3810,
          4240,
          4317,
          4318,
          4443,
          4444,
          4515,
          4517,
          4560,
          4561,
          4562,
          4586,
          4587,
          4605,
          4606,
          4615,
          4636,
          4878,
          4919,
          4922,
          4950
         ],
         "legendgroup": "",
         "marker": {
          "color": [
           143,
           147,
           148,
           149,
           151,
           156,
           160,
           162,
           165,
           167,
           168,
           181,
           182,
           183,
           184,
           187,
           189,
           191,
           192,
           195,
           196,
           197,
           198,
           199,
           944,
           950,
           1004,
           1018,
           1034,
           1045,
           1088,
           1131,
           1133,
           1208,
           1225,
           1285,
           1293,
           1311,
           1319,
           1691,
           1707,
           1723,
           1724,
           1770,
           1771,
           1798,
           1815,
           1973,
           1982,
           2088,
           2110,
           2571,
           2600,
           2601,
           2605,
           2626,
           2636,
           2638,
           2651,
           2653,
           2657,
           2658,
           2659,
           2665,
           2666,
           2667,
           2668,
           2671,
           2681,
           2683,
           2684,
           2697,
           3186,
           3386,
           3387,
           3407,
           3408,
           3413,
           3417,
           3418,
           3443,
           3444,
           3534,
           3538,
           3539,
           3629,
           3630,
           3659,
           3671,
           3689,
           3690,
           3711,
           3752,
           3792,
           3810,
           4240,
           4317,
           4318,
           4443,
           4444,
           4515,
           4517,
           4560,
           4561,
           4562,
           4586,
           4587,
           4605,
           4606,
           4615,
           4636,
           4878,
           4919,
           4922,
           4950
          ],
          "coloraxis": "coloraxis",
          "size": [
           8,
           11,
           58,
           14,
           23,
           22,
           43,
           64,
           22,
           1,
           2,
           31,
           43,
           43,
           68,
           33,
           19,
           12,
           13,
           6,
           25,
           10,
           16,
           6,
           2,
           8,
           1,
           19,
           7,
           7,
           2,
           3,
           38,
           22,
           5,
           41,
           7,
           38,
           9,
           29,
           10,
           24,
           23,
           36,
           6,
           3,
           36,
           17,
           17,
           47,
           28,
           11,
           13,
           30,
           10,
           6,
           3,
           44,
           39,
           8,
           25,
           14,
           18,
           40,
           5,
           3,
           14,
           15,
           6,
           2,
           7,
           1,
           7,
           14,
           19,
           14,
           15,
           23,
           12,
           8,
           11,
           9,
           25,
           11,
           11,
           5,
           8,
           18,
           7,
           7,
           17,
           12,
           13,
           10,
           7,
           22,
           10,
           21,
           9,
           13,
           6,
           9,
           5,
           12,
           11,
           1,
           6,
           10,
           3,
           5,
           3,
           4,
           6,
           1,
           2
          ],
          "sizemode": "area",
          "sizeref": 0.17,
          "symbol": "circle"
         },
         "mode": "markers",
         "name": "",
         "orientation": "v",
         "showlegend": false,
         "type": "scatter",
         "x": [
          91.25,
          68.45454545454545,
          77.56896551724138,
          45.07142857142857,
          70.34782608695652,
          81.5,
          50.48837209302326,
          43.921875,
          64,
          18,
          83,
          94.09677419354838,
          69.4186046511628,
          73.55813953488372,
          84.63235294117646,
          81.81818181818181,
          74,
          105.66666666666667,
          99.84615384615384,
          38.333333333333336,
          100.56,
          80,
          77.4375,
          80.66666666666667,
          28,
          64,
          90,
          76.57894736842105,
          65,
          61.142857142857146,
          30,
          146.33333333333334,
          92.97368421052632,
          69.0909090909091,
          114.8,
          110.07317073170732,
          69.57142857142857,
          52.026315789473685,
          87.66666666666667,
          69.34482758620689,
          58.4,
          59.666666666666664,
          71.52173913043478,
          74.11111111111111,
          75,
          68,
          62.52777777777778,
          89.3529411764706,
          75.11764705882354,
          45.276595744680854,
          66.35714285714286,
          84.0909090909091,
          91.61538461538461,
          55.56666666666667,
          67.9,
          31.166666666666668,
          32.666666666666664,
          39.15909090909091,
          83.46153846153847,
          81.875,
          72.24,
          47.42857142857143,
          52.833333333333336,
          45.575,
          94.4,
          63.333333333333336,
          81.35714285714286,
          102.26666666666667,
          53.333333333333336,
          93,
          78.14285714285714,
          103,
          56.57142857142857,
          84.71428571428571,
          68.84210526315789,
          93.28571428571429,
          130.86666666666667,
          60.69565217391305,
          52.833333333333336,
          50.875,
          46.72727272727273,
          60.77777777777778,
          85.4,
          81.63636363636364,
          86.81818181818181,
          40.8,
          75.125,
          93.66666666666667,
          79.71428571428571,
          76.85714285714286,
          85.3529411764706,
          49.416666666666664,
          78.38461538461539,
          117.6,
          62.857142857142854,
          64.0909090909091,
          94.8,
          73.28571428571429,
          82.33333333333333,
          71.76923076923077,
          57.166666666666664,
          46,
          62,
          68.33333333333333,
          60.27272727272727,
          112,
          47.333333333333336,
          16,
          31.666666666666668,
          48,
          46.666666666666664,
          53.75,
          34.5,
          20,
          8
         ],
         "xaxis": "x",
         "y": [
          1,
          1,
          0.9310344827586207,
          1,
          0.9565217391304348,
          0.9545454545454546,
          0.9534883720930233,
          1,
          0.9545454545454546,
          1,
          1,
          0.967741935483871,
          1,
          0.8837209302325582,
          0.9558823529411765,
          0.9696969696969697,
          1,
          1,
          0.8461538461538461,
          1,
          0.92,
          1,
          1,
          1,
          1,
          1,
          1,
          1,
          1,
          1,
          1,
          1,
          0.9473684210526315,
          1,
          1,
          0.926829268292683,
          1,
          1,
          1,
          1,
          1,
          1,
          0.8695652173913043,
          1,
          1,
          1,
          1,
          0.9411764705882353,
          1,
          0.9574468085106383,
          1,
          1,
          1,
          0.9666666666666667,
          1,
          1,
          1,
          0.9318181818181818,
          0.9743589743589743,
          1,
          0.92,
          1,
          0.9444444444444444,
          0.975,
          1,
          1,
          1,
          0.9333333333333333,
          1,
          1,
          1,
          1,
          1,
          1,
          1,
          1,
          0.8,
          1,
          0.9166666666666666,
          1,
          0.9090909090909091,
          1,
          1,
          1,
          1,
          1,
          1,
          1,
          1,
          1,
          0.9411764705882353,
          0.8333333333333334,
          1,
          1,
          0.8571428571428571,
          1,
          0.9,
          1,
          1,
          0.7692307692307693,
          1,
          0.8888888888888888,
          0.8,
          1,
          1,
          1,
          1,
          1,
          1,
          1,
          1,
          1,
          1,
          1,
          1
         ],
         "yaxis": "y"
        }
       ],
       "layout": {
        "autosize": true,
        "coloraxis": {
         "colorbar": {
          "title": {
           "text": "provider_id"
          }
         },
         "colorscale": [
          [
           0,
           "#0d0887"
          ],
          [
           0.1111111111111111,
           "#46039f"
          ],
          [
           0.2222222222222222,
           "#7201a8"
          ],
          [
           0.3333333333333333,
           "#9c179e"
          ],
          [
           0.4444444444444444,
           "#bd3786"
          ],
          [
           0.5555555555555556,
           "#d8576b"
          ],
          [
           0.6666666666666666,
           "#ed7953"
          ],
          [
           0.7777777777777778,
           "#fb9f3a"
          ],
          [
           0.8888888888888888,
           "#fdca26"
          ],
          [
           1,
           "#f0f921"
          ]
         ]
        },
        "legend": {
         "itemsizing": "constant",
         "tracegroupgap": 0
        },
        "template": {
         "data": {
          "bar": [
           {
            "error_x": {
             "color": "#2a3f5f"
            },
            "error_y": {
             "color": "#2a3f5f"
            },
            "marker": {
             "line": {
              "color": "#E5ECF6",
              "width": 0.5
             },
             "pattern": {
              "fillmode": "overlay",
              "size": 10,
              "solidity": 0.2
             }
            },
            "type": "bar"
           }
          ],
          "barpolar": [
           {
            "marker": {
             "line": {
              "color": "#E5ECF6",
              "width": 0.5
             },
             "pattern": {
              "fillmode": "overlay",
              "size": 10,
              "solidity": 0.2
             }
            },
            "type": "barpolar"
           }
          ],
          "carpet": [
           {
            "aaxis": {
             "endlinecolor": "#2a3f5f",
             "gridcolor": "white",
             "linecolor": "white",
             "minorgridcolor": "white",
             "startlinecolor": "#2a3f5f"
            },
            "baxis": {
             "endlinecolor": "#2a3f5f",
             "gridcolor": "white",
             "linecolor": "white",
             "minorgridcolor": "white",
             "startlinecolor": "#2a3f5f"
            },
            "type": "carpet"
           }
          ],
          "choropleth": [
           {
            "colorbar": {
             "outlinewidth": 0,
             "ticks": ""
            },
            "type": "choropleth"
           }
          ],
          "contour": [
           {
            "colorbar": {
             "outlinewidth": 0,
             "ticks": ""
            },
            "colorscale": [
             [
              0,
              "#0d0887"
             ],
             [
              0.1111111111111111,
              "#46039f"
             ],
             [
              0.2222222222222222,
              "#7201a8"
             ],
             [
              0.3333333333333333,
              "#9c179e"
             ],
             [
              0.4444444444444444,
              "#bd3786"
             ],
             [
              0.5555555555555556,
              "#d8576b"
             ],
             [
              0.6666666666666666,
              "#ed7953"
             ],
             [
              0.7777777777777778,
              "#fb9f3a"
             ],
             [
              0.8888888888888888,
              "#fdca26"
             ],
             [
              1,
              "#f0f921"
             ]
            ],
            "type": "contour"
           }
          ],
          "contourcarpet": [
           {
            "colorbar": {
             "outlinewidth": 0,
             "ticks": ""
            },
            "type": "contourcarpet"
           }
          ],
          "heatmap": [
           {
            "colorbar": {
             "outlinewidth": 0,
             "ticks": ""
            },
            "colorscale": [
             [
              0,
              "#0d0887"
             ],
             [
              0.1111111111111111,
              "#46039f"
             ],
             [
              0.2222222222222222,
              "#7201a8"
             ],
             [
              0.3333333333333333,
              "#9c179e"
             ],
             [
              0.4444444444444444,
              "#bd3786"
             ],
             [
              0.5555555555555556,
              "#d8576b"
             ],
             [
              0.6666666666666666,
              "#ed7953"
             ],
             [
              0.7777777777777778,
              "#fb9f3a"
             ],
             [
              0.8888888888888888,
              "#fdca26"
             ],
             [
              1,
              "#f0f921"
             ]
            ],
            "type": "heatmap"
           }
          ],
          "heatmapgl": [
           {
            "colorbar": {
             "outlinewidth": 0,
             "ticks": ""
            },
            "colorscale": [
             [
              0,
              "#0d0887"
             ],
             [
              0.1111111111111111,
              "#46039f"
             ],
             [
              0.2222222222222222,
              "#7201a8"
             ],
             [
              0.3333333333333333,
              "#9c179e"
             ],
             [
              0.4444444444444444,
              "#bd3786"
             ],
             [
              0.5555555555555556,
              "#d8576b"
             ],
             [
              0.6666666666666666,
              "#ed7953"
             ],
             [
              0.7777777777777778,
              "#fb9f3a"
             ],
             [
              0.8888888888888888,
              "#fdca26"
             ],
             [
              1,
              "#f0f921"
             ]
            ],
            "type": "heatmapgl"
           }
          ],
          "histogram": [
           {
            "marker": {
             "pattern": {
              "fillmode": "overlay",
              "size": 10,
              "solidity": 0.2
             }
            },
            "type": "histogram"
           }
          ],
          "histogram2d": [
           {
            "colorbar": {
             "outlinewidth": 0,
             "ticks": ""
            },
            "colorscale": [
             [
              0,
              "#0d0887"
             ],
             [
              0.1111111111111111,
              "#46039f"
             ],
             [
              0.2222222222222222,
              "#7201a8"
             ],
             [
              0.3333333333333333,
              "#9c179e"
             ],
             [
              0.4444444444444444,
              "#bd3786"
             ],
             [
              0.5555555555555556,
              "#d8576b"
             ],
             [
              0.6666666666666666,
              "#ed7953"
             ],
             [
              0.7777777777777778,
              "#fb9f3a"
             ],
             [
              0.8888888888888888,
              "#fdca26"
             ],
             [
              1,
              "#f0f921"
             ]
            ],
            "type": "histogram2d"
           }
          ],
          "histogram2dcontour": [
           {
            "colorbar": {
             "outlinewidth": 0,
             "ticks": ""
            },
            "colorscale": [
             [
              0,
              "#0d0887"
             ],
             [
              0.1111111111111111,
              "#46039f"
             ],
             [
              0.2222222222222222,
              "#7201a8"
             ],
             [
              0.3333333333333333,
              "#9c179e"
             ],
             [
              0.4444444444444444,
              "#bd3786"
             ],
             [
              0.5555555555555556,
              "#d8576b"
             ],
             [
              0.6666666666666666,
              "#ed7953"
             ],
             [
              0.7777777777777778,
              "#fb9f3a"
             ],
             [
              0.8888888888888888,
              "#fdca26"
             ],
             [
              1,
              "#f0f921"
             ]
            ],
            "type": "histogram2dcontour"
           }
          ],
          "mesh3d": [
           {
            "colorbar": {
             "outlinewidth": 0,
             "ticks": ""
            },
            "type": "mesh3d"
           }
          ],
          "parcoords": [
           {
            "line": {
             "colorbar": {
              "outlinewidth": 0,
              "ticks": ""
             }
            },
            "type": "parcoords"
           }
          ],
          "pie": [
           {
            "automargin": true,
            "type": "pie"
           }
          ],
          "scatter": [
           {
            "fillpattern": {
             "fillmode": "overlay",
             "size": 10,
             "solidity": 0.2
            },
            "type": "scatter"
           }
          ],
          "scatter3d": [
           {
            "line": {
             "colorbar": {
              "outlinewidth": 0,
              "ticks": ""
             }
            },
            "marker": {
             "colorbar": {
              "outlinewidth": 0,
              "ticks": ""
             }
            },
            "type": "scatter3d"
           }
          ],
          "scattercarpet": [
           {
            "marker": {
             "colorbar": {
              "outlinewidth": 0,
              "ticks": ""
             }
            },
            "type": "scattercarpet"
           }
          ],
          "scattergeo": [
           {
            "marker": {
             "colorbar": {
              "outlinewidth": 0,
              "ticks": ""
             }
            },
            "type": "scattergeo"
           }
          ],
          "scattergl": [
           {
            "marker": {
             "colorbar": {
              "outlinewidth": 0,
              "ticks": ""
             }
            },
            "type": "scattergl"
           }
          ],
          "scattermapbox": [
           {
            "marker": {
             "colorbar": {
              "outlinewidth": 0,
              "ticks": ""
             }
            },
            "type": "scattermapbox"
           }
          ],
          "scatterpolar": [
           {
            "marker": {
             "colorbar": {
              "outlinewidth": 0,
              "ticks": ""
             }
            },
            "type": "scatterpolar"
           }
          ],
          "scatterpolargl": [
           {
            "marker": {
             "colorbar": {
              "outlinewidth": 0,
              "ticks": ""
             }
            },
            "type": "scatterpolargl"
           }
          ],
          "scatterternary": [
           {
            "marker": {
             "colorbar": {
              "outlinewidth": 0,
              "ticks": ""
             }
            },
            "type": "scatterternary"
           }
          ],
          "surface": [
           {
            "colorbar": {
             "outlinewidth": 0,
             "ticks": ""
            },
            "colorscale": [
             [
              0,
              "#0d0887"
             ],
             [
              0.1111111111111111,
              "#46039f"
             ],
             [
              0.2222222222222222,
              "#7201a8"
             ],
             [
              0.3333333333333333,
              "#9c179e"
             ],
             [
              0.4444444444444444,
              "#bd3786"
             ],
             [
              0.5555555555555556,
              "#d8576b"
             ],
             [
              0.6666666666666666,
              "#ed7953"
             ],
             [
              0.7777777777777778,
              "#fb9f3a"
             ],
             [
              0.8888888888888888,
              "#fdca26"
             ],
             [
              1,
              "#f0f921"
             ]
            ],
            "type": "surface"
           }
          ],
          "table": [
           {
            "cells": {
             "fill": {
              "color": "#EBF0F8"
             },
             "line": {
              "color": "white"
             }
            },
            "header": {
             "fill": {
              "color": "#C8D4E3"
             },
             "line": {
              "color": "white"
             }
            },
            "type": "table"
           }
          ]
         },
         "layout": {
          "annotationdefaults": {
           "arrowcolor": "#2a3f5f",
           "arrowhead": 0,
           "arrowwidth": 1
          },
          "autotypenumbers": "strict",
          "coloraxis": {
           "colorbar": {
            "outlinewidth": 0,
            "ticks": ""
           }
          },
          "colorscale": {
           "diverging": [
            [
             0,
             "#8e0152"
            ],
            [
             0.1,
             "#c51b7d"
            ],
            [
             0.2,
             "#de77ae"
            ],
            [
             0.3,
             "#f1b6da"
            ],
            [
             0.4,
             "#fde0ef"
            ],
            [
             0.5,
             "#f7f7f7"
            ],
            [
             0.6,
             "#e6f5d0"
            ],
            [
             0.7,
             "#b8e186"
            ],
            [
             0.8,
             "#7fbc41"
            ],
            [
             0.9,
             "#4d9221"
            ],
            [
             1,
             "#276419"
            ]
           ],
           "sequential": [
            [
             0,
             "#0d0887"
            ],
            [
             0.1111111111111111,
             "#46039f"
            ],
            [
             0.2222222222222222,
             "#7201a8"
            ],
            [
             0.3333333333333333,
             "#9c179e"
            ],
            [
             0.4444444444444444,
             "#bd3786"
            ],
            [
             0.5555555555555556,
             "#d8576b"
            ],
            [
             0.6666666666666666,
             "#ed7953"
            ],
            [
             0.7777777777777778,
             "#fb9f3a"
            ],
            [
             0.8888888888888888,
             "#fdca26"
            ],
            [
             1,
             "#f0f921"
            ]
           ],
           "sequentialminus": [
            [
             0,
             "#0d0887"
            ],
            [
             0.1111111111111111,
             "#46039f"
            ],
            [
             0.2222222222222222,
             "#7201a8"
            ],
            [
             0.3333333333333333,
             "#9c179e"
            ],
            [
             0.4444444444444444,
             "#bd3786"
            ],
            [
             0.5555555555555556,
             "#d8576b"
            ],
            [
             0.6666666666666666,
             "#ed7953"
            ],
            [
             0.7777777777777778,
             "#fb9f3a"
            ],
            [
             0.8888888888888888,
             "#fdca26"
            ],
            [
             1,
             "#f0f921"
            ]
           ]
          },
          "colorway": [
           "#636efa",
           "#EF553B",
           "#00cc96",
           "#ab63fa",
           "#FFA15A",
           "#19d3f3",
           "#FF6692",
           "#B6E880",
           "#FF97FF",
           "#FECB52"
          ],
          "font": {
           "color": "#2a3f5f"
          },
          "geo": {
           "bgcolor": "white",
           "lakecolor": "white",
           "landcolor": "#E5ECF6",
           "showlakes": true,
           "showland": true,
           "subunitcolor": "white"
          },
          "hoverlabel": {
           "align": "left"
          },
          "hovermode": "closest",
          "mapbox": {
           "style": "light"
          },
          "paper_bgcolor": "white",
          "plot_bgcolor": "#E5ECF6",
          "polar": {
           "angularaxis": {
            "gridcolor": "white",
            "linecolor": "white",
            "ticks": ""
           },
           "bgcolor": "#E5ECF6",
           "radialaxis": {
            "gridcolor": "white",
            "linecolor": "white",
            "ticks": ""
           }
          },
          "scene": {
           "xaxis": {
            "backgroundcolor": "#E5ECF6",
            "gridcolor": "white",
            "gridwidth": 2,
            "linecolor": "white",
            "showbackground": true,
            "ticks": "",
            "zerolinecolor": "white"
           },
           "yaxis": {
            "backgroundcolor": "#E5ECF6",
            "gridcolor": "white",
            "gridwidth": 2,
            "linecolor": "white",
            "showbackground": true,
            "ticks": "",
            "zerolinecolor": "white"
           },
           "zaxis": {
            "backgroundcolor": "#E5ECF6",
            "gridcolor": "white",
            "gridwidth": 2,
            "linecolor": "white",
            "showbackground": true,
            "ticks": "",
            "zerolinecolor": "white"
           }
          },
          "shapedefaults": {
           "line": {
            "color": "#2a3f5f"
           }
          },
          "ternary": {
           "aaxis": {
            "gridcolor": "white",
            "linecolor": "white",
            "ticks": ""
           },
           "baxis": {
            "gridcolor": "white",
            "linecolor": "white",
            "ticks": ""
           },
           "bgcolor": "#E5ECF6",
           "caxis": {
            "gridcolor": "white",
            "linecolor": "white",
            "ticks": ""
           }
          },
          "title": {
           "x": 0.05
          },
          "xaxis": {
           "automargin": true,
           "gridcolor": "white",
           "linecolor": "white",
           "ticks": "",
           "title": {
            "standoff": 15
           },
           "zerolinecolor": "white",
           "zerolinewidth": 2
          },
          "yaxis": {
           "automargin": true,
           "gridcolor": "white",
           "linecolor": "white",
           "ticks": "",
           "title": {
            "standoff": 15
           },
           "zerolinecolor": "white",
           "zerolinewidth": 2
          }
         }
        },
        "title": {
         "text": "Provider Adherence vs Gap"
        },
        "xaxis": {
         "anchor": "y",
         "autorange": true,
         "domain": [
          0,
          1
         ],
         "range": [
          -0.2711930519847918,
          154.66066834460136
         ],
         "title": {
          "text": "avg_gap"
         },
         "type": "linear"
        },
        "yaxis": {
         "anchor": "x",
         "autorange": true,
         "domain": [
          0,
          1
         ],
         "range": [
          0.7429525884237337,
          1.0401922514692414
         ],
         "title": {
          "text": "adherence_rate"
         },
         "type": "linear"
        }
       }
      },
      "image/png": "[encoded data removed]",
      "text/html": [
       "<div>                            <div id=\"c24ab171-1340-4be0-89b1-db8977b30530\" class=\"plotly-graph-div\" style=\"height:525px; width:100%;\"></div>            <script type=\"text/javascript\">                require([\"plotly\"], function(Plotly) {                    window.PLOTLYENV=window.PLOTLYENV || {};                                    if (document.getElementById(\"c24ab171-1340-4be0-89b1-db8977b30530\")) {                    Plotly.newPlot(                        \"c24ab171-1340-4be0-89b1-db8977b30530\",                        [{\"hovertemplate\":\"\\u003cb\\u003e%{hovertext}\\u003c\\u002fb\\u003e\\u003cbr\\u003e\\u003cbr\\u003eavg_gap=%{x}\\u003cbr\\u003eadherence_rate=%{y}\\u003cbr\\u003etotal_refills=%{marker.size}\\u003cbr\\u003eprovider_id=%{marker.color}\\u003cextra\\u003e\\u003c\\u002fextra\\u003e\",\"hovertext\":[143.0,147.0,148.0,149.0,151.0,156.0,160.0,162.0,165.0,167.0,168.0,181.0,182.0,183.0,184.0,187.0,189.0,191.0,192.0,195.0,196.0,197.0,198.0,199.0,944.0,950.0,1004.0,1018.0,1034.0,1045.0,1088.0,1131.0,1133.0,1208.0,1225.0,1285.0,1293.0,1311.0,1319.0,1691.0,1707.0,1723.0,1724.0,1770.0,1771.0,1798.0,1815.0,1973.0,1982.0,2088.0,2110.0,2571.0,2600.0,2601.0,2605.0,2626.0,2636.0,2638.0,2651.0,2653.0,2657.0,2658.0,2659.0,2665.0,2666.0,2667.0,2668.0,2671.0,2681.0,2683.0,2684.0,2697.0,3186.0,3386.0,3387.0,3407.0,3408.0,3413.0,3417.0,3418.0,3443.0,3444.0,3534.0,3538.0,3539.0,3629.0,3630.0,3659.0,3671.0,3689.0,3690.0,3711.0,3752.0,3792.0,3810.0,4240.0,4317.0,4318.0,4443.0,4444.0,4515.0,4517.0,4560.0,4561.0,4562.0,4586.0,4587.0,4605.0,4606.0,4615.0,4636.0,4878.0,4919.0,4922.0,4950.0],\"legendgroup\":\"\",\"marker\":{\"color\":[143.0,147.0,148.0,149.0,151.0,156.0,160.0,162.0,165.0,167.0,168.0,181.0,182.0,183.0,184.0,187.0,189.0,191.0,192.0,195.0,196.0,197.0,198.0,199.0,944.0,950.0,1004.0,1018.0,1034.0,1045.0,1088.0,1131.0,1133.0,1208.0,1225.0,1285.0,1293.0,1311.0,1319.0,1691.0,1707.0,1723.0,1724.0,1770.0,1771.0,1798.0,1815.0,1973.0,1982.0,2088.0,2110.0,2571.0,2600.0,2601.0,2605.0,2626.0,2636.0,2638.0,2651.0,2653.0,2657.0,2658.0,2659.0,2665.0,2666.0,2667.0,2668.0,2671.0,2681.0,2683.0,2684.0,2697.0,3186.0,3386.0,3387.0,3407.0,3408.0,3413.0,3417.0,3418.0,3443.0,3444.0,3534.0,3538.0,3539.0,3629.0,3630.0,3659.0,3671.0,3689.0,3690.0,3711.0,3752.0,3792.0,3810.0,4240.0,4317.0,4318.0,4443.0,4444.0,4515.0,4517.0,4560.0,4561.0,4562.0,4586.0,4587.0,4605.0,4606.0,4615.0,4636.0,4878.0,4919.0,4922.0,4950.0],\"coloraxis\":\"coloraxis\",\"size\":[8,11,58,14,23,22,43,64,22,1,2,31,43,43,68,33,19,12,13,6,25,10,16,6,2,8,1,19,7,7,2,3,38,22,5,41,7,38,9,29,10,24,23,36,6,3,36,17,17,47,28,11,13,30,10,6,3,44,39,8,25,14,18,40,5,3,14,15,6,2,7,1,7,14,19,14,15,23,12,8,11,9,25,11,11,5,8,18,7,7,17,12,13,10,7,22,10,21,9,13,6,9,5,12,11,1,6,10,3,5,3,4,6,1,2],\"sizemode\":\"area\",\"sizeref\":0.17,\"symbol\":\"circle\"},\"mode\":\"markers\",\"name\":\"\",\"orientation\":\"v\",\"showlegend\":false,\"x\":[91.25,68.45454545454545,77.56896551724138,45.07142857142857,70.34782608695652,81.5,50.48837209302326,43.921875,64.0,18.0,83.0,94.09677419354838,69.4186046511628,73.55813953488372,84.63235294117646,81.81818181818181,74.0,105.66666666666667,99.84615384615384,38.333333333333336,100.56,80.0,77.4375,80.66666666666667,28.0,64.0,90.0,76.57894736842105,65.0,61.142857142857146,30.0,146.33333333333334,92.97368421052632,69.0909090909091,114.8,110.07317073170732,69.57142857142857,52.026315789473685,87.66666666666667,69.34482758620689,58.4,59.666666666666664,71.52173913043478,74.11111111111111,75.0,68.0,62.52777777777778,89.3529411764706,75.11764705882354,45.276595744680854,66.35714285714286,84.0909090909091,91.61538461538461,55.56666666666667,67.9,31.166666666666668,32.666666666666664,39.15909090909091,83.46153846153847,81.875,72.24,47.42857142857143,52.833333333333336,45.575,94.4,63.333333333333336,81.35714285714286,102.26666666666667,53.333333333333336,93.0,78.14285714285714,103.0,56.57142857142857,84.71428571428571,68.84210526315789,93.28571428571429,130.86666666666667,60.69565217391305,52.833333333333336,50.875,46.72727272727273,60.77777777777778,85.4,81.63636363636364,86.81818181818181,40.8,75.125,93.66666666666667,79.71428571428571,76.85714285714286,85.3529411764706,49.416666666666664,78.38461538461539,117.6,62.857142857142854,64.0909090909091,94.8,73.28571428571429,82.33333333333333,71.76923076923077,57.166666666666664,46.0,62.0,68.33333333333333,60.27272727272727,112.0,47.333333333333336,16.0,31.666666666666668,48.0,46.666666666666664,53.75,34.5,20.0,8.0],\"xaxis\":\"x\",\"y\":[1.0,1.0,0.9310344827586207,1.0,0.9565217391304348,0.9545454545454546,0.9534883720930233,1.0,0.9545454545454546,1.0,1.0,0.967741935483871,1.0,0.8837209302325582,0.9558823529411765,0.9696969696969697,1.0,1.0,0.8461538461538461,1.0,0.92,1.0,1.0,1.0,1.0,1.0,1.0,1.0,1.0,1.0,1.0,1.0,0.9473684210526315,1.0,1.0,0.926829268292683,1.0,1.0,1.0,1.0,1.0,1.0,0.8695652173913043,1.0,1.0,1.0,1.0,0.9411764705882353,1.0,0.9574468085106383,1.0,1.0,1.0,0.9666666666666667,1.0,1.0,1.0,0.9318181818181818,0.9743589743589743,1.0,0.92,1.0,0.9444444444444444,0.975,1.0,1.0,1.0,0.9333333333333333,1.0,1.0,1.0,1.0,1.0,1.0,1.0,1.0,0.8,1.0,0.9166666666666666,1.0,0.9090909090909091,1.0,1.0,1.0,1.0,1.0,1.0,1.0,1.0,1.0,0.9411764705882353,0.8333333333333334,1.0,1.0,0.8571428571428571,1.0,0.9,1.0,1.0,0.7692307692307693,1.0,0.8888888888888888,0.8,1.0,1.0,1.0,1.0,1.0,1.0,1.0,1.0,1.0,1.0,1.0,1.0],\"yaxis\":\"y\",\"type\":\"scatter\"}],                        {\"template\":{\"data\":{\"histogram2dcontour\":[{\"type\":\"histogram2dcontour\",\"colorbar\":{\"outlinewidth\":0,\"ticks\":\"\"},\"colorscale\":[[0.0,\"#0d0887\"],[0.1111111111111111,\"#46039f\"],[0.2222222222222222,\"#7201a8\"],[0.3333333333333333,\"#9c179e\"],[0.4444444444444444,\"#bd3786\"],[0.5555555555555556,\"#d8576b\"],[0.6666666666666666,\"#ed7953\"],[0.7777777777777778,\"#fb9f3a\"],[0.8888888888888888,\"#fdca26\"],[1.0,\"#f0f921\"]]}],\"choropleth\":[{\"type\":\"choropleth\",\"colorbar\":{\"outlinewidth\":0,\"ticks\":\"\"}}],\"histogram2d\":[{\"type\":\"histogram2d\",\"colorbar\":{\"outlinewidth\":0,\"ticks\":\"\"},\"colorscale\":[[0.0,\"#0d0887\"],[0.1111111111111111,\"#46039f\"],[0.2222222222222222,\"#7201a8\"],[0.3333333333333333,\"#9c179e\"],[0.4444444444444444,\"#bd3786\"],[0.5555555555555556,\"#d8576b\"],[0.6666666666666666,\"#ed7953\"],[0.7777777777777778,\"#fb9f3a\"],[0.8888888888888888,\"#fdca26\"],[1.0,\"#f0f921\"]]}],\"heatmap\":[{\"type\":\"heatmap\",\"colorbar\":{\"outlinewidth\":0,\"ticks\":\"\"},\"colorscale\":[[0.0,\"#0d0887\"],[0.1111111111111111,\"#46039f\"],[0.2222222222222222,\"#7201a8\"],[0.3333333333333333,\"#9c179e\"],[0.4444444444444444,\"#bd3786\"],[0.5555555555555556,\"#d8576b\"],[0.6666666666666666,\"#ed7953\"],[0.7777777777777778,\"#fb9f3a\"],[0.8888888888888888,\"#fdca26\"],[1.0,\"#f0f921\"]]}],\"heatmapgl\":[{\"type\":\"heatmapgl\",\"colorbar\":{\"outlinewidth\":0,\"ticks\":\"\"},\"colorscale\":[[0.0,\"#0d0887\"],[0.1111111111111111,\"#46039f\"],[0.2222222222222222,\"#7201a8\"],[0.3333333333333333,\"#9c179e\"],[0.4444444444444444,\"#bd3786\"],[0.5555555555555556,\"#d8576b\"],[0.6666666666666666,\"#ed7953\"],[0.7777777777777778,\"#fb9f3a\"],[0.8888888888888888,\"#fdca26\"],[1.0,\"#f0f921\"]]}],\"contourcarpet\":[{\"type\":\"contourcarpet\",\"colorbar\":{\"outlinewidth\":0,\"ticks\":\"\"}}],\"contour\":[{\"type\":\"contour\",\"colorbar\":{\"outlinewidth\":0,\"ticks\":\"\"},\"colorscale\":[[0.0,\"#0d0887\"],[0.1111111111111111,\"#46039f\"],[0.2222222222222222,\"#7201a8\"],[0.3333333333333333,\"#9c179e\"],[0.4444444444444444,\"#bd3786\"],[0.5555555555555556,\"#d8576b\"],[0.6666666666666666,\"#ed7953\"],[0.7777777777777778,\"#fb9f3a\"],[0.8888888888888888,\"#fdca26\"],[1.0,\"#f0f921\"]]}],\"surface\":[{\"type\":\"surface\",\"colorbar\":{\"outlinewidth\":0,\"ticks\":\"\"},\"colorscale\":[[0.0,\"#0d0887\"],[0.1111111111111111,\"#46039f\"],[0.2222222222222222,\"#7201a8\"],[0.3333333333333333,\"#9c179e\"],[0.4444444444444444,\"#bd3786\"],[0.5555555555555556,\"#d8576b\"],[0.6666666666666666,\"#ed7953\"],[0.7777777777777778,\"#fb9f3a\"],[0.8888888888888888,\"#fdca26\"],[1.0,\"#f0f921\"]]}],\"mesh3d\":[{\"type\":\"mesh3d\",\"colorbar\":{\"outlinewidth\":0,\"ticks\":\"\"}}],\"scatter\":[{\"fillpattern\":{\"fillmode\":\"overlay\",\"size\":10,\"solidity\":0.2},\"type\":\"scatter\"}],\"parcoords\":[{\"type\":\"parcoords\",\"line\":{\"colorbar\":{\"outlinewidth\":0,\"ticks\":\"\"}}}],\"scatterpolargl\":[{\"type\":\"scatterpolargl\",\"marker\":{\"colorbar\":{\"outlinewidth\":0,\"ticks\":\"\"}}}],\"bar\":[{\"error_x\":{\"color\":\"#2a3f5f\"},\"error_y\":{\"color\":\"#2a3f5f\"},\"marker\":{\"line\":{\"color\":\"#E5ECF6\",\"width\":0.5},\"pattern\":{\"fillmode\":\"overlay\",\"size\":10,\"solidity\":0.2}},\"type\":\"bar\"}],\"scattergeo\":[{\"type\":\"scattergeo\",\"marker\":{\"colorbar\":{\"outlinewidth\":0,\"ticks\":\"\"}}}],\"scatterpolar\":[{\"type\":\"scatterpolar\",\"marker\":{\"colorbar\":{\"outlinewidth\":0,\"ticks\":\"\"}}}],\"histogram\":[{\"marker\":{\"pattern\":{\"fillmode\":\"overlay\",\"size\":10,\"solidity\":0.2}},\"type\":\"histogram\"}],\"scattergl\":[{\"type\":\"scattergl\",\"marker\":{\"colorbar\":{\"outlinewidth\":0,\"ticks\":\"\"}}}],\"scatter3d\":[{\"type\":\"scatter3d\",\"line\":{\"colorbar\":{\"outlinewidth\":0,\"ticks\":\"\"}},\"marker\":{\"colorbar\":{\"outlinewidth\":0,\"ticks\":\"\"}}}],\"scattermapbox\":[{\"type\":\"scattermapbox\",\"marker\":{\"colorbar\":{\"outlinewidth\":0,\"ticks\":\"\"}}}],\"scatterternary\":[{\"type\":\"scatterternary\",\"marker\":{\"colorbar\":{\"outlinewidth\":0,\"ticks\":\"\"}}}],\"scattercarpet\":[{\"type\":\"scattercarpet\",\"marker\":{\"colorbar\":{\"outlinewidth\":0,\"ticks\":\"\"}}}],\"carpet\":[{\"aaxis\":{\"endlinecolor\":\"#2a3f5f\",\"gridcolor\":\"white\",\"linecolor\":\"white\",\"minorgridcolor\":\"white\",\"startlinecolor\":\"#2a3f5f\"},\"baxis\":{\"endlinecolor\":\"#2a3f5f\",\"gridcolor\":\"white\",\"linecolor\":\"white\",\"minorgridcolor\":\"white\",\"startlinecolor\":\"#2a3f5f\"},\"type\":\"carpet\"}],\"table\":[{\"cells\":{\"fill\":{\"color\":\"#EBF0F8\"},\"line\":{\"color\":\"white\"}},\"header\":{\"fill\":{\"color\":\"#C8D4E3\"},\"line\":{\"color\":\"white\"}},\"type\":\"table\"}],\"barpolar\":[{\"marker\":{\"line\":{\"color\":\"#E5ECF6\",\"width\":0.5},\"pattern\":{\"fillmode\":\"overlay\",\"size\":10,\"solidity\":0.2}},\"type\":\"barpolar\"}],\"pie\":[{\"automargin\":true,\"type\":\"pie\"}]},\"layout\":{\"autotypenumbers\":\"strict\",\"colorway\":[\"#636efa\",\"#EF553B\",\"#00cc96\",\"#ab63fa\",\"#FFA15A\",\"#19d3f3\",\"#FF6692\",\"#B6E880\",\"#FF97FF\",\"#FECB52\"],\"font\":{\"color\":\"#2a3f5f\"},\"hovermode\":\"closest\",\"hoverlabel\":{\"align\":\"left\"},\"paper_bgcolor\":\"white\",\"plot_bgcolor\":\"#E5ECF6\",\"polar\":{\"bgcolor\":\"#E5ECF6\",\"angularaxis\":{\"gridcolor\":\"white\",\"linecolor\":\"white\",\"ticks\":\"\"},\"radialaxis\":{\"gridcolor\":\"white\",\"linecolor\":\"white\",\"ticks\":\"\"}},\"ternary\":{\"bgcolor\":\"#E5ECF6\",\"aaxis\":{\"gridcolor\":\"white\",\"linecolor\":\"white\",\"ticks\":\"\"},\"baxis\":{\"gridcolor\":\"white\",\"linecolor\":\"white\",\"ticks\":\"\"},\"caxis\":{\"gridcolor\":\"white\",\"linecolor\":\"white\",\"ticks\":\"\"}},\"coloraxis\":{\"colorbar\":{\"outlinewidth\":0,\"ticks\":\"\"}},\"colorscale\":{\"sequential\":[[0.0,\"#0d0887\"],[0.1111111111111111,\"#46039f\"],[0.2222222222222222,\"#7201a8\"],[0.3333333333333333,\"#9c179e\"],[0.4444444444444444,\"#bd3786\"],[0.5555555555555556,\"#d8576b\"],[0.6666666666666666,\"#ed7953\"],[0.7777777777777778,\"#fb9f3a\"],[0.8888888888888888,\"#fdca26\"],[1.0,\"#f0f921\"]],\"sequentialminus\":[[0.0,\"#0d0887\"],[0.1111111111111111,\"#46039f\"],[0.2222222222222222,\"#7201a8\"],[0.3333333333333333,\"#9c179e\"],[0.4444444444444444,\"#bd3786\"],[0.5555555555555556,\"#d8576b\"],[0.6666666666666666,\"#ed7953\"],[0.7777777777777778,\"#fb9f3a\"],[0.8888888888888888,\"#fdca26\"],[1.0,\"#f0f921\"]],\"diverging\":[[0,\"#8e0152\"],[0.1,\"#c51b7d\"],[0.2,\"#de77ae\"],[0.3,\"#f1b6da\"],[0.4,\"#fde0ef\"],[0.5,\"#f7f7f7\"],[0.6,\"#e6f5d0\"],[0.7,\"#b8e186\"],[0.8,\"#7fbc41\"],[0.9,\"#4d9221\"],[1,\"#276419\"]]},\"xaxis\":{\"gridcolor\":\"white\",\"linecolor\":\"white\",\"ticks\":\"\",\"title\":{\"standoff\":15},\"zerolinecolor\":\"white\",\"automargin\":true,\"zerolinewidth\":2},\"yaxis\":{\"gridcolor\":\"white\",\"linecolor\":\"white\",\"ticks\":\"\",\"title\":{\"standoff\":15},\"zerolinecolor\":\"white\",\"automargin\":true,\"zerolinewidth\":2},\"scene\":{\"xaxis\":{\"backgroundcolor\":\"#E5ECF6\",\"gridcolor\":\"white\",\"linecolor\":\"white\",\"showbackground\":true,\"ticks\":\"\",\"zerolinecolor\":\"white\",\"gridwidth\":2},\"yaxis\":{\"backgroundcolor\":\"#E5ECF6\",\"gridcolor\":\"white\",\"linecolor\":\"white\",\"showbackground\":true,\"ticks\":\"\",\"zerolinecolor\":\"white\",\"gridwidth\":2},\"zaxis\":{\"backgroundcolor\":\"#E5ECF6\",\"gridcolor\":\"white\",\"linecolor\":\"white\",\"showbackground\":true,\"ticks\":\"\",\"zerolinecolor\":\"white\",\"gridwidth\":2}},\"shapedefaults\":{\"line\":{\"color\":\"#2a3f5f\"}},\"annotationdefaults\":{\"arrowcolor\":\"#2a3f5f\",\"arrowhead\":0,\"arrowwidth\":1},\"geo\":{\"bgcolor\":\"white\",\"landcolor\":\"#E5ECF6\",\"subunitcolor\":\"white\",\"showland\":true,\"showlakes\":true,\"lakecolor\":\"white\"},\"title\":{\"x\":0.05},\"mapbox\":{\"style\":\"light\"}}},\"xaxis\":{\"anchor\":\"y\",\"domain\":[0.0,1.0],\"title\":{\"text\":\"avg_gap\"}},\"yaxis\":{\"anchor\":\"x\",\"domain\":[0.0,1.0],\"title\":{\"text\":\"adherence_rate\"}},\"coloraxis\":{\"colorbar\":{\"title\":{\"text\":\"provider_id\"}},\"colorscale\":[[0.0,\"#0d0887\"],[0.1111111111111111,\"#46039f\"],[0.2222222222222222,\"#7201a8\"],[0.3333333333333333,\"#9c179e\"],[0.4444444444444444,\"#bd3786\"],[0.5555555555555556,\"#d8576b\"],[0.6666666666666666,\"#ed7953\"],[0.7777777777777778,\"#fb9f3a\"],[0.8888888888888888,\"#fdca26\"],[1.0,\"#f0f921\"]]},\"legend\":{\"tracegroupgap\":0,\"itemsizing\":\"constant\"},\"title\":{\"text\":\"Provider Adherence vs Gap\"}},                        {\"responsive\": true}                    ).then(function(){\n",
       "                            \n",
       "var gd = document.getElementById('c24ab171-1340-4be0-89b1-db8977b30530');\n",
       "var x = new MutationObserver(function (mutations, observer) {{\n",
       "        var display = window.getComputedStyle(gd).display;\n",
       "        if (!display || display === 'none') {{\n",
       "            console.log([gd, 'removed!']);\n",
       "            Plotly.purge(gd);\n",
       "            observer.disconnect();\n",
       "        }}\n",
       "}});\n",
       "\n",
       "// Listen for the removal of the full notebook cells\n",
       "var notebookContainer = gd.closest('#notebook-container');\n",
       "if (notebookContainer) {{\n",
       "    x.observe(notebookContainer, {childList: true});\n",
       "}}\n",
       "\n",
       "// Listen for the clearing of the current output cell\n",
       "var outputEl = gd.closest('.output');\n",
       "if (outputEl) {{\n",
       "    x.observe(outputEl, {childList: true});\n",
       "}}\n",
       "\n",
       "                        })                };                });            </script>        </div>"
      ]
     },
     "metadata": {},
     "output_type": "display_data"
    }
   ],
   "source": [
    "fig = px.scatter(\n",
    "    provider_metrics, x='avg_gap', y='adherence_rate',\n",
    "    size='total_refills', color='provider_id',\n",
    "    hover_name='provider_id', title='Provider Adherence vs Gap'\n",
    ")\n",
    "fig.show()"
   ]
  },
  {
   "cell_type": "markdown",
   "id": "649339f0",
   "metadata": {},
   "source": [
    "## 11. Composite Adherence Score"
   ]
  },
  {
   "cell_type": "code",
   "execution_count": 51,
   "id": "0c1c5008",
   "metadata": {},
   "outputs": [
    {
     "data": {
      "text/html": [
       "<div>\n",
       "<style scoped>\n",
       "    .dataframe tbody tr th:only-of-type {\n",
       "        vertical-align: middle;\n",
       "    }\n",
       "\n",
       "    .dataframe tbody tr th {\n",
       "        vertical-align: top;\n",
       "    }\n",
       "\n",
       "    .dataframe thead th {\n",
       "        text-align: right;\n",
       "    }\n",
       "</style>\n",
       "<table border=\"1\" class=\"dataframe\">\n",
       "  <thead>\n",
       "    <tr style=\"text-align: right;\">\n",
       "      <th></th>\n",
       "      <th>provider_id</th>\n",
       "      <th>total_refills</th>\n",
       "      <th>on_time</th>\n",
       "      <th>avg_gap</th>\n",
       "      <th>adherence_rate</th>\n",
       "      <th>ad_sc</th>\n",
       "      <th>gap_sc</th>\n",
       "      <th>vol_sc</th>\n",
       "      <th>composite_score</th>\n",
       "    </tr>\n",
       "  </thead>\n",
       "  <tbody>\n",
       "    <tr>\n",
       "      <th>7</th>\n",
       "      <td>162.0</td>\n",
       "      <td>64</td>\n",
       "      <td>64</td>\n",
       "      <td>43.921875</td>\n",
       "      <td>1.0</td>\n",
       "      <td>1.0</td>\n",
       "      <td>0.259676</td>\n",
       "      <td>0.940299</td>\n",
       "      <td>0.910157</td>\n",
       "    </tr>\n",
       "    <tr>\n",
       "      <th>37</th>\n",
       "      <td>1311.0</td>\n",
       "      <td>38</td>\n",
       "      <td>38</td>\n",
       "      <td>52.026316</td>\n",
       "      <td>1.0</td>\n",
       "      <td>1.0</td>\n",
       "      <td>0.318263</td>\n",
       "      <td>0.552239</td>\n",
       "      <td>0.814969</td>\n",
       "    </tr>\n",
       "    <tr>\n",
       "      <th>107</th>\n",
       "      <td>4605.0</td>\n",
       "      <td>10</td>\n",
       "      <td>10</td>\n",
       "      <td>16.000000</td>\n",
       "      <td>1.0</td>\n",
       "      <td>1.0</td>\n",
       "      <td>0.057831</td>\n",
       "      <td>0.134328</td>\n",
       "      <td>0.809516</td>\n",
       "    </tr>\n",
       "  </tbody>\n",
       "</table>\n",
       "</div>"
      ],
      "text/plain": [
       "     provider_id  total_refills  on_time    avg_gap  adherence_rate  ad_sc  \\\n",
       "7          162.0             64       64  43.921875             1.0    1.0   \n",
       "37        1311.0             38       38  52.026316             1.0    1.0   \n",
       "107       4605.0             10       10  16.000000             1.0    1.0   \n",
       "\n",
       "       gap_sc    vol_sc  composite_score  \n",
       "7    0.259676  0.940299         0.910157  \n",
       "37   0.318263  0.552239         0.814969  \n",
       "107  0.057831  0.134328         0.809516  "
      ]
     },
     "execution_count": 51,
     "metadata": {},
     "output_type": "execute_result"
    }
   ],
   "source": [
    "scaler = MinMaxScaler()\n",
    "scaled = scaler.fit_transform(provider_metrics[['adherence_rate','avg_gap','total_refills']])\n",
    "scored = provider_metrics.copy()\n",
    "scored[['ad_sc','gap_sc','vol_sc']] = scaled\n",
    "scored['composite_score'] = 0.5*scored['ad_sc'] + 0.3*(1-scored['gap_sc']) + 0.2*scored['vol_sc']\n",
    "scored.to_csv(DATA_DIR/'composite_scores.csv', index=False)\n",
    "scored.sort_values('composite_score', ascending=False).head(3)"
   ]
  },
  {
   "cell_type": "markdown",
   "id": "8f6b98af",
   "metadata": {},
   "source": [
    "## 12. Validation Tests"
   ]
  },
  {
   "cell_type": "code",
   "execution_count": 52,
   "id": "4246becd",
   "metadata": {},
   "outputs": [
    {
     "name": "stdout",
     "output_type": "stream",
     "text": [
      "All validation tests passed\n"
     ]
    }
   ],
   "source": [
    "assert not merged.duplicated(['patient_id','drug_name','next_refill_date','quantity']).any()\n",
    "assert provider_metrics['total_refills'].sum() == len(encountered)\n",
    "print(\"All validation tests passed\")"
   ]
  }
 ],
 "metadata": {
  "kernelspec": {
   "display_name": "Python 3 (ipykernel)",
   "language": "python",
   "name": "python3"
  },
  "language_info": {
   "codemirror_mode": {
    "name": "ipython",
    "version": 3
   },
   "file_extension": ".py",
   "mimetype": "text/x-python",
   "name": "python",
   "nbconvert_exporter": "python",
   "pygments_lexer": "ipython3",
   "version": "3.12.3"
  }
 },
 "nbformat": 4,
 "nbformat_minor": 5
}
